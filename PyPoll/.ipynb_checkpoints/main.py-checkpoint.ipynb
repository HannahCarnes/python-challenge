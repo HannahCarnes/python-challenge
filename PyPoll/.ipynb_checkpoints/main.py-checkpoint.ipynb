{
 "cells": [
  {
   "cell_type": "code",
   "execution_count": 7,
   "id": "8e2b00b3",
   "metadata": {},
   "outputs": [],
   "source": [
    "#import dependencies\n",
    "import csv\n",
    "import pandas as pd"
   ]
  },
  {
   "cell_type": "code",
   "execution_count": 8,
   "id": "914c2d3e",
   "metadata": {},
   "outputs": [],
   "source": [
    "file_path = \"Resources/election_data.csv\"\n",
    "election_data = pd.read_csv(file_path)"
   ]
  },
  {
   "cell_type": "code",
   "execution_count": 9,
   "id": "55fb1822",
   "metadata": {},
   "outputs": [
    {
     "name": "stdout",
     "output_type": "stream",
     "text": [
      "Total Votes: 369711\n"
     ]
    }
   ],
   "source": [
    "#calculate total votes\n",
    "total_votes = len(election_data)\n",
    "print(f\"Total Votes: {total_votes}\")"
   ]
  },
  {
   "cell_type": "code",
   "execution_count": 10,
   "id": "d7a8140e",
   "metadata": {},
   "outputs": [
    {
     "name": "stdout",
     "output_type": "stream",
     "text": [
      "Candidates who received votes:\n",
      "Diana DeGette\n",
      "Charles Casper Stockham\n",
      "Raymon Anthony Doane\n"
     ]
    }
   ],
   "source": [
    "#extract candidates who got votes\n",
    "candidate_counts = election_data[\"Candidate\"].value_counts().index.tolist()\n",
    "print(\"Candidates who received votes:\")\n",
    "for candidate in candidate_counts:\n",
    "    print(candidate)"
   ]
  },
  {
   "cell_type": "code",
   "execution_count": 11,
   "id": "d9329380",
   "metadata": {},
   "outputs": [
    {
     "name": "stdout",
     "output_type": "stream",
     "text": [
      "Percentage of votes for each candidate:\n",
      "Diana DeGette: 73.81%\n",
      "Charles Casper Stockham: 23.05%\n",
      "Raymon Anthony Doane: 3.14%\n"
     ]
    }
   ],
   "source": [
    "#calculate the vote counts for each candidate\n",
    "candidate_vote_counts = election_data[\"Candidate\"].value_counts()\n",
    "#calculate the total number of votes\n",
    "total_votes = len(election_data)\n",
    "#calculate the percentage of votes for each candidate\n",
    "print(\"Percentage of votes for each candidate:\")\n",
    "for candidate, votes in candidate_vote_counts.items():\n",
    "    percentage = (votes / total_votes) * 100\n",
    "    print(f\"{candidate}: {percentage:.2f}%\")"
   ]
  },
  {
   "cell_type": "code",
   "execution_count": 12,
   "id": "19edfd0f",
   "metadata": {},
   "outputs": [
    {
     "name": "stdout",
     "output_type": "stream",
     "text": [
      "Total number of votes each candidate won:\n",
      "Diana DeGette: 272892\n",
      "Charles Casper Stockham: 85213\n",
      "Raymon Anthony Doane: 11606\n"
     ]
    }
   ],
   "source": [
    "# calculate the vote counts for each candidate\n",
    "candidate_vote_counts = election_data[\"Candidate\"].value_counts()\n",
    "#print the total number of votes each candidate won\n",
    "print(\"Total number of votes each candidate won:\")\n",
    "for candidate, votes in candidate_vote_counts.items():\n",
    "    print(f\"{candidate}: {votes}\")"
   ]
  },
  {
   "cell_type": "code",
   "execution_count": 14,
   "id": "a9cfbde9",
   "metadata": {},
   "outputs": [
    {
     "name": "stdout",
     "output_type": "stream",
     "text": [
      "Winner: Diana DeGette\n"
     ]
    }
   ],
   "source": [
    "#print the winner of the election\n",
    "print(f\"Winner: Diana DeGette\")"
   ]
  },
  {
   "cell_type": "code",
   "execution_count": 21,
   "id": "122387eb",
   "metadata": {},
   "outputs": [
    {
     "name": "stdout",
     "output_type": "stream",
     "text": [
      "Election Results\n",
      "-------------------------\n",
      "Total Votes: 369711\n",
      "-------------------------\n",
      "Diana DeGette: 73.812% (272892)\n",
      "Charles Casper Stockham: 23.049% (85213)\n",
      "Raymon Anthony Doane: 3.139% (11606)\n",
      "-------------------------\n",
      "Winner: Diana DeGette-------------------------\n"
     ]
    }
   ],
   "source": [
    "# create a summary text with all the results\n",
    "summary_text = (\n",
    "    \"Election Results\\n\"\n",
    "    \"-------------------------\\n\"\n",
    "    f\"Total Votes: {total_votes}\\n\"\n",
    "    \"-------------------------\\n\"\n",
    ")\n",
    "\n",
    "# for loop through each candidate and add their results to the summary text\n",
    "for candidate, votes in candidate_vote_counts.items():\n",
    "    percentage = (votes / total_votes) * 100\n",
    "    summary_text += f\"{candidate}: {percentage:.3f}% ({votes})\\n\"\n",
    "\n",
    "summary_text += (\n",
    "    \"-------------------------\\n\"\n",
    "    f\"Winner: Diana DeGette\"\n",
    "    \"-------------------------\\n\"\n",
    ")\n",
    "\n",
    "# print the summary text\n",
    "print(summary_text, end=\"\")\n",
    "\n",
    "# put the summary text in the text file\n",
    "output_file = \"election_results.txt\"\n",
    "with open(output_file, \"w\") as file:\n",
    "    file.write(summary_text)\n"
   ]
  },
  {
   "cell_type": "code",
   "execution_count": null,
   "id": "3165e163",
   "metadata": {},
   "outputs": [],
   "source": []
  }
 ],
 "metadata": {
  "kernelspec": {
   "display_name": "Python 3 (ipykernel)",
   "language": "python",
   "name": "python3"
  },
  "language_info": {
   "codemirror_mode": {
    "name": "ipython",
    "version": 3
   },
   "file_extension": ".py",
   "mimetype": "text/x-python",
   "name": "python",
   "nbconvert_exporter": "python",
   "pygments_lexer": "ipython3",
   "version": "3.10.11"
  }
 },
 "nbformat": 4,
 "nbformat_minor": 5
}
