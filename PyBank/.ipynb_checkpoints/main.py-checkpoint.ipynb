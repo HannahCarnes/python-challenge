{
 "cells": [
  {
   "cell_type": "code",
   "execution_count": 1,
   "id": "9bdb3c9f",
   "metadata": {},
   "outputs": [],
   "source": [
    "import pandas as pd"
   ]
  },
  {
   "cell_type": "code",
   "execution_count": 3,
   "id": "c18c78ca",
   "metadata": {},
   "outputs": [],
   "source": [
    "#load in csv\n",
    "csv_file = \"Resources/budget_data.csv\"\n",
    "df = pd.read_csv(csv_file)"
   ]
  },
  {
   "cell_type": "code",
   "execution_count": 8,
   "id": "1006cadc",
   "metadata": {},
   "outputs": [
    {
     "name": "stdout",
     "output_type": "stream",
     "text": [
      "Total Months: 86\n"
     ]
    }
   ],
   "source": [
    "#calculate total number of months\n",
    "total_months = len(df)\n",
    "print(f\"Total Months: {total_months}\")"
   ]
  },
  {
   "cell_type": "code",
   "execution_count": 9,
   "id": "15f279ce",
   "metadata": {},
   "outputs": [
    {
     "name": "stdout",
     "output_type": "stream",
     "text": [
      "Total: $22564198\n"
     ]
    }
   ],
   "source": [
    "#calulate net total from profit and losses section\n",
    "net_total = df[\"Profit/Losses\"].sum()\n",
    "print(f\"Total: ${net_total}\")"
   ]
  },
  {
   "cell_type": "code",
   "execution_count": 10,
   "id": "fb36b0e3",
   "metadata": {},
   "outputs": [
    {
     "name": "stdout",
     "output_type": "stream",
     "text": [
      "Average Change: $-8214.46511627907\n"
     ]
    }
   ],
   "source": [
    "#calculate the average change by first calculating total changes \n",
    "#then averaging them out using mean function\n",
    "profit_losses = df[\"Profit/Losses\"]\n",
    "changes = profit_losses.diff().fillna(0) \n",
    "average_change = changes.mean()\n",
    "print(f\"Average Change: ${average_change}\")"
   ]
  },
  {
   "cell_type": "code",
   "execution_count": 12,
   "id": "9821897d",
   "metadata": {},
   "outputs": [
    {
     "name": "stdout",
     "output_type": "stream",
     "text": [
      "Greatest increase in profits: Aug-16 ($1862002.0)\n",
      "Greatest decrease in profits: Feb-14 ($-1825558.0)\n"
     ]
    }
   ],
   "source": [
    "#calculate using max and min functions, then extract the date from them as well\n",
    "greatest_increase = changes.max()\n",
    "greatest_decrease = changes.min()\n",
    "date_of_increase = df.loc[changes.idxmax(), \"Date\"]\n",
    "date_of_decrease = df.loc[changes.idxmin(), \"Date\"]\n",
    "print(f\"Greatest increase in profits: {date_of_increase} (${greatest_increase})\")\n",
    "print(f\"Greatest decrease in profits: {date_of_decrease} (${greatest_decrease})\")"
   ]
  },
  {
   "cell_type": "code",
   "execution_count": 14,
   "id": "13e78296",
   "metadata": {},
   "outputs": [
    {
     "name": "stdout",
     "output_type": "stream",
     "text": [
      "Financial Analysis\n",
      "------------------\n",
      "Total Months: 86\n",
      "Total: $22564198\n",
      "Average Change: $-8214.46511627907\n",
      "Greatest Increase in Profits: Aug-16 ($1862002.0)\n",
      "Greatest Decrease in Profits: Feb-14 ($-1825558.0)\n"
     ]
    }
   ],
   "source": [
    "#create a summary text to show all the data you found and print it out\n",
    "summary_text = (\n",
    "    \"Financial Analysis\\n\"\n",
    "    \"------------------\\n\"\n",
    "    f\"Total Months: {total_months}\\n\"\n",
    "    f\"Total: ${net_total}\\n\"\n",
    "    f\"Average Change: ${average_change}\\n\"\n",
    "    f\"Greatest Increase in Profits: {date_of_increase} (${greatest_increase})\\n\"\n",
    "    f\"Greatest Decrease in Profits: {date_of_decrease} (${greatest_decrease})\"\n",
    ")\n",
    "print(summary_text)"
   ]
  },
  {
   "cell_type": "code",
   "execution_count": 16,
   "id": "f692d508",
   "metadata": {},
   "outputs": [],
   "source": [
    "#export the results to a text file\n",
    "output_file = \"financial_analysis.txt\"\n",
    "with open(output_file, \"w\") as file:\n",
    "    file.write(summary_text)\n",
    "\n"
   ]
  },
  {
   "cell_type": "code",
   "execution_count": null,
   "id": "146ad6c6",
   "metadata": {},
   "outputs": [],
   "source": []
  }
 ],
 "metadata": {
  "kernelspec": {
   "display_name": "Python 3 (ipykernel)",
   "language": "python",
   "name": "python3"
  },
  "language_info": {
   "codemirror_mode": {
    "name": "ipython",
    "version": 3
   },
   "file_extension": ".py",
   "mimetype": "text/x-python",
   "name": "python",
   "nbconvert_exporter": "python",
   "pygments_lexer": "ipython3",
   "version": "3.10.11"
  }
 },
 "nbformat": 4,
 "nbformat_minor": 5
}
